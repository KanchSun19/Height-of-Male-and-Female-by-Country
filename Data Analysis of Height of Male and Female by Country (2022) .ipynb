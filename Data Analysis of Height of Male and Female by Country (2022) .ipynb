{
 "cells": [
  {
   "cell_type": "markdown",
   "id": "6ad0dac8",
   "metadata": {},
   "source": [
    "### Context\n",
    "This is an exploratory data analytics done on a Kaggle dataset containing data of the Height of Male and Female by Country (2022)."
   ]
  },
  {
   "cell_type": "code",
   "execution_count": 47,
   "id": "71eccf81",
   "metadata": {},
   "outputs": [],
   "source": [
    "import pandas as pd\n",
    "import numpy as np\n",
    "import matplotlib.pyplot as plt\n",
    "import seaborn as sns\n",
    "plt.style.use('ggplot')\n",
    "from pandas_profiling import ProfileReport\n",
    "%matplotlib inline"
   ]
  },
  {
   "cell_type": "code",
   "execution_count": 48,
   "id": "d10d26e7",
   "metadata": {},
   "outputs": [],
   "source": [
    "#Load the dataset\n",
    "height_cdf = pd.read_csv('/Users/kanchanas/Desktop/Height of Male and Female by Country 2022.csv')"
   ]
  },
  {
   "cell_type": "code",
   "execution_count": 49,
   "id": "b28a9f04",
   "metadata": {},
   "outputs": [
    {
     "data": {
      "text/plain": [
       "(199, 6)"
      ]
     },
     "execution_count": 49,
     "metadata": {},
     "output_type": "execute_result"
    }
   ],
   "source": [
    "height_cdf.shape"
   ]
  },
  {
   "cell_type": "code",
   "execution_count": 50,
   "id": "30d57ca1",
   "metadata": {},
   "outputs": [
    {
     "data": {
      "text/html": [
       "<div>\n",
       "<style scoped>\n",
       "    .dataframe tbody tr th:only-of-type {\n",
       "        vertical-align: middle;\n",
       "    }\n",
       "\n",
       "    .dataframe tbody tr th {\n",
       "        vertical-align: top;\n",
       "    }\n",
       "\n",
       "    .dataframe thead th {\n",
       "        text-align: right;\n",
       "    }\n",
       "</style>\n",
       "<table border=\"1\" class=\"dataframe\">\n",
       "  <thead>\n",
       "    <tr style=\"text-align: right;\">\n",
       "      <th></th>\n",
       "      <th>Rank</th>\n",
       "      <th>Country Name</th>\n",
       "      <th>Male Height in Cm</th>\n",
       "      <th>Female Height in Cm</th>\n",
       "      <th>Male Height in Ft</th>\n",
       "      <th>Female Height in Ft</th>\n",
       "    </tr>\n",
       "  </thead>\n",
       "  <tbody>\n",
       "    <tr>\n",
       "      <th>0</th>\n",
       "      <td>1</td>\n",
       "      <td>Netherlands</td>\n",
       "      <td>183.78</td>\n",
       "      <td>170.36</td>\n",
       "      <td>6.03</td>\n",
       "      <td>5.59</td>\n",
       "    </tr>\n",
       "    <tr>\n",
       "      <th>1</th>\n",
       "      <td>2</td>\n",
       "      <td>Montenegro</td>\n",
       "      <td>183.30</td>\n",
       "      <td>169.96</td>\n",
       "      <td>6.01</td>\n",
       "      <td>5.58</td>\n",
       "    </tr>\n",
       "    <tr>\n",
       "      <th>2</th>\n",
       "      <td>3</td>\n",
       "      <td>Estonia</td>\n",
       "      <td>182.79</td>\n",
       "      <td>168.66</td>\n",
       "      <td>6.00</td>\n",
       "      <td>5.53</td>\n",
       "    </tr>\n",
       "    <tr>\n",
       "      <th>3</th>\n",
       "      <td>4</td>\n",
       "      <td>Bosnia and Herzegovina</td>\n",
       "      <td>182.47</td>\n",
       "      <td>167.47</td>\n",
       "      <td>5.99</td>\n",
       "      <td>5.49</td>\n",
       "    </tr>\n",
       "    <tr>\n",
       "      <th>4</th>\n",
       "      <td>5</td>\n",
       "      <td>Iceland</td>\n",
       "      <td>182.10</td>\n",
       "      <td>168.91</td>\n",
       "      <td>5.97</td>\n",
       "      <td>5.54</td>\n",
       "    </tr>\n",
       "  </tbody>\n",
       "</table>\n",
       "</div>"
      ],
      "text/plain": [
       "   Rank            Country Name  Male Height in Cm  Female Height in Cm  \\\n",
       "0     1             Netherlands             183.78               170.36   \n",
       "1     2              Montenegro             183.30               169.96   \n",
       "2     3                 Estonia             182.79               168.66   \n",
       "3     4  Bosnia and Herzegovina             182.47               167.47   \n",
       "4     5                 Iceland             182.10               168.91   \n",
       "\n",
       "   Male Height in Ft  Female Height in Ft  \n",
       "0               6.03                 5.59  \n",
       "1               6.01                 5.58  \n",
       "2               6.00                 5.53  \n",
       "3               5.99                 5.49  \n",
       "4               5.97                 5.54  "
      ]
     },
     "execution_count": 50,
     "metadata": {},
     "output_type": "execute_result"
    }
   ],
   "source": [
    "height_cdf.head(5)"
   ]
  },
  {
   "cell_type": "code",
   "execution_count": 51,
   "id": "5e89b26b",
   "metadata": {},
   "outputs": [
    {
     "data": {
      "text/html": [
       "<div>\n",
       "<style scoped>\n",
       "    .dataframe tbody tr th:only-of-type {\n",
       "        vertical-align: middle;\n",
       "    }\n",
       "\n",
       "    .dataframe tbody tr th {\n",
       "        vertical-align: top;\n",
       "    }\n",
       "\n",
       "    .dataframe thead th {\n",
       "        text-align: right;\n",
       "    }\n",
       "</style>\n",
       "<table border=\"1\" class=\"dataframe\">\n",
       "  <thead>\n",
       "    <tr style=\"text-align: right;\">\n",
       "      <th></th>\n",
       "      <th>Rank</th>\n",
       "      <th>Country Name</th>\n",
       "      <th>Male Height in Cm</th>\n",
       "      <th>Female Height in Cm</th>\n",
       "      <th>Male Height in Ft</th>\n",
       "      <th>Female Height in Ft</th>\n",
       "    </tr>\n",
       "  </thead>\n",
       "  <tbody>\n",
       "    <tr>\n",
       "      <th>194</th>\n",
       "      <td>195</td>\n",
       "      <td>Mozambique</td>\n",
       "      <td>164.30</td>\n",
       "      <td>155.42</td>\n",
       "      <td>5.39</td>\n",
       "      <td>5.10</td>\n",
       "    </tr>\n",
       "    <tr>\n",
       "      <th>195</th>\n",
       "      <td>196</td>\n",
       "      <td>Papua New Guinea</td>\n",
       "      <td>163.10</td>\n",
       "      <td>156.89</td>\n",
       "      <td>5.35</td>\n",
       "      <td>5.15</td>\n",
       "    </tr>\n",
       "    <tr>\n",
       "      <th>196</th>\n",
       "      <td>197</td>\n",
       "      <td>Solomon Islands</td>\n",
       "      <td>163.07</td>\n",
       "      <td>156.79</td>\n",
       "      <td>5.35</td>\n",
       "      <td>5.14</td>\n",
       "    </tr>\n",
       "    <tr>\n",
       "      <th>197</th>\n",
       "      <td>198</td>\n",
       "      <td>Laos</td>\n",
       "      <td>162.78</td>\n",
       "      <td>153.10</td>\n",
       "      <td>5.34</td>\n",
       "      <td>5.02</td>\n",
       "    </tr>\n",
       "    <tr>\n",
       "      <th>198</th>\n",
       "      <td>199</td>\n",
       "      <td>Timor-Leste</td>\n",
       "      <td>160.13</td>\n",
       "      <td>152.71</td>\n",
       "      <td>5.25</td>\n",
       "      <td>5.01</td>\n",
       "    </tr>\n",
       "  </tbody>\n",
       "</table>\n",
       "</div>"
      ],
      "text/plain": [
       "     Rank      Country Name  Male Height in Cm  Female Height in Cm  \\\n",
       "194   195        Mozambique             164.30               155.42   \n",
       "195   196  Papua New Guinea             163.10               156.89   \n",
       "196   197   Solomon Islands             163.07               156.79   \n",
       "197   198              Laos             162.78               153.10   \n",
       "198   199       Timor-Leste             160.13               152.71   \n",
       "\n",
       "     Male Height in Ft  Female Height in Ft  \n",
       "194               5.39                 5.10  \n",
       "195               5.35                 5.15  \n",
       "196               5.35                 5.14  \n",
       "197               5.34                 5.02  \n",
       "198               5.25                 5.01  "
      ]
     },
     "execution_count": 51,
     "metadata": {},
     "output_type": "execute_result"
    }
   ],
   "source": [
    "height_cdf.tail(5)"
   ]
  },
  {
   "cell_type": "code",
   "execution_count": 52,
   "id": "88da9c46",
   "metadata": {},
   "outputs": [
    {
     "data": {
      "text/plain": [
       "Index(['Rank', 'Country Name', 'Male Height in Cm', 'Female Height in Cm',\n",
       "       'Male Height in Ft', 'Female Height in Ft'],\n",
       "      dtype='object')"
      ]
     },
     "execution_count": 52,
     "metadata": {},
     "output_type": "execute_result"
    }
   ],
   "source": [
    "height_cdf.columns"
   ]
  },
  {
   "cell_type": "code",
   "execution_count": 53,
   "id": "7692821c",
   "metadata": {},
   "outputs": [
    {
     "data": {
      "text/plain": [
       "Rank                     int64\n",
       "Country Name            object\n",
       "Male Height in Cm      float64\n",
       "Female Height in Cm    float64\n",
       "Male Height in Ft      float64\n",
       "Female Height in Ft    float64\n",
       "dtype: object"
      ]
     },
     "execution_count": 53,
     "metadata": {},
     "output_type": "execute_result"
    }
   ],
   "source": [
    "height_cdf.dtypes"
   ]
  },
  {
   "cell_type": "code",
   "execution_count": 54,
   "id": "230f8a5f",
   "metadata": {},
   "outputs": [
    {
     "data": {
      "text/html": [
       "<div>\n",
       "<style scoped>\n",
       "    .dataframe tbody tr th:only-of-type {\n",
       "        vertical-align: middle;\n",
       "    }\n",
       "\n",
       "    .dataframe tbody tr th {\n",
       "        vertical-align: top;\n",
       "    }\n",
       "\n",
       "    .dataframe thead th {\n",
       "        text-align: right;\n",
       "    }\n",
       "</style>\n",
       "<table border=\"1\" class=\"dataframe\">\n",
       "  <thead>\n",
       "    <tr style=\"text-align: right;\">\n",
       "      <th></th>\n",
       "      <th>Rank</th>\n",
       "      <th>Male Height in Cm</th>\n",
       "      <th>Female Height in Cm</th>\n",
       "      <th>Male Height in Ft</th>\n",
       "      <th>Female Height in Ft</th>\n",
       "    </tr>\n",
       "  </thead>\n",
       "  <tbody>\n",
       "    <tr>\n",
       "      <th>count</th>\n",
       "      <td>199.000000</td>\n",
       "      <td>199.000000</td>\n",
       "      <td>199.000000</td>\n",
       "      <td>199.000000</td>\n",
       "      <td>199.000000</td>\n",
       "    </tr>\n",
       "    <tr>\n",
       "      <th>mean</th>\n",
       "      <td>100.000000</td>\n",
       "      <td>173.089045</td>\n",
       "      <td>160.942915</td>\n",
       "      <td>5.678794</td>\n",
       "      <td>5.280402</td>\n",
       "    </tr>\n",
       "    <tr>\n",
       "      <th>std</th>\n",
       "      <td>57.590508</td>\n",
       "      <td>4.949832</td>\n",
       "      <td>4.076377</td>\n",
       "      <td>0.162510</td>\n",
       "      <td>0.133870</td>\n",
       "    </tr>\n",
       "    <tr>\n",
       "      <th>min</th>\n",
       "      <td>1.000000</td>\n",
       "      <td>160.130000</td>\n",
       "      <td>150.910000</td>\n",
       "      <td>5.250000</td>\n",
       "      <td>4.950000</td>\n",
       "    </tr>\n",
       "    <tr>\n",
       "      <th>25%</th>\n",
       "      <td>50.500000</td>\n",
       "      <td>169.490000</td>\n",
       "      <td>158.240000</td>\n",
       "      <td>5.560000</td>\n",
       "      <td>5.190000</td>\n",
       "    </tr>\n",
       "    <tr>\n",
       "      <th>50%</th>\n",
       "      <td>100.000000</td>\n",
       "      <td>173.530000</td>\n",
       "      <td>160.620000</td>\n",
       "      <td>5.690000</td>\n",
       "      <td>5.270000</td>\n",
       "    </tr>\n",
       "    <tr>\n",
       "      <th>75%</th>\n",
       "      <td>149.500000</td>\n",
       "      <td>176.510000</td>\n",
       "      <td>163.870000</td>\n",
       "      <td>5.790000</td>\n",
       "      <td>5.375000</td>\n",
       "    </tr>\n",
       "    <tr>\n",
       "      <th>max</th>\n",
       "      <td>199.000000</td>\n",
       "      <td>183.780000</td>\n",
       "      <td>170.360000</td>\n",
       "      <td>6.030000</td>\n",
       "      <td>5.590000</td>\n",
       "    </tr>\n",
       "  </tbody>\n",
       "</table>\n",
       "</div>"
      ],
      "text/plain": [
       "             Rank  Male Height in Cm  Female Height in Cm  Male Height in Ft  \\\n",
       "count  199.000000         199.000000           199.000000         199.000000   \n",
       "mean   100.000000         173.089045           160.942915           5.678794   \n",
       "std     57.590508           4.949832             4.076377           0.162510   \n",
       "min      1.000000         160.130000           150.910000           5.250000   \n",
       "25%     50.500000         169.490000           158.240000           5.560000   \n",
       "50%    100.000000         173.530000           160.620000           5.690000   \n",
       "75%    149.500000         176.510000           163.870000           5.790000   \n",
       "max    199.000000         183.780000           170.360000           6.030000   \n",
       "\n",
       "       Female Height in Ft  \n",
       "count           199.000000  \n",
       "mean              5.280402  \n",
       "std               0.133870  \n",
       "min               4.950000  \n",
       "25%               5.190000  \n",
       "50%               5.270000  \n",
       "75%               5.375000  \n",
       "max               5.590000  "
      ]
     },
     "execution_count": 54,
     "metadata": {},
     "output_type": "execute_result"
    }
   ],
   "source": [
    "#Descriptive statistics\n",
    "height_cdf.describe()"
   ]
  },
  {
   "cell_type": "markdown",
   "id": "767eb261",
   "metadata": {},
   "source": [
    "The average male height in cm is approximately 173.89cm, the minumum height is 160.13cm and the maximum height is 183.78cm. The average female height in cm is approximately 160.94cm, the minimum height is 150.91cm and the maximum height is 170.36cm."
   ]
  },
  {
   "cell_type": "code",
   "execution_count": 55,
   "id": "738c9103",
   "metadata": {},
   "outputs": [
    {
     "data": {
      "text/plain": [
       "<bound method DataFrame.info of      Rank            Country Name  Male Height in Cm  Female Height in Cm  \\\n",
       "0       1             Netherlands             183.78               170.36   \n",
       "1       2              Montenegro             183.30               169.96   \n",
       "2       3                 Estonia             182.79               168.66   \n",
       "3       4  Bosnia and Herzegovina             182.47               167.47   \n",
       "4       5                 Iceland             182.10               168.91   \n",
       "..    ...                     ...                ...                  ...   \n",
       "194   195              Mozambique             164.30               155.42   \n",
       "195   196        Papua New Guinea             163.10               156.89   \n",
       "196   197         Solomon Islands             163.07               156.79   \n",
       "197   198                    Laos             162.78               153.10   \n",
       "198   199             Timor-Leste             160.13               152.71   \n",
       "\n",
       "     Male Height in Ft  Female Height in Ft  \n",
       "0                 6.03                 5.59  \n",
       "1                 6.01                 5.58  \n",
       "2                 6.00                 5.53  \n",
       "3                 5.99                 5.49  \n",
       "4                 5.97                 5.54  \n",
       "..                 ...                  ...  \n",
       "194               5.39                 5.10  \n",
       "195               5.35                 5.15  \n",
       "196               5.35                 5.14  \n",
       "197               5.34                 5.02  \n",
       "198               5.25                 5.01  \n",
       "\n",
       "[199 rows x 6 columns]>"
      ]
     },
     "execution_count": 55,
     "metadata": {},
     "output_type": "execute_result"
    }
   ],
   "source": [
    "height_cdf.info"
   ]
  },
  {
   "cell_type": "code",
   "execution_count": 56,
   "id": "5b78c105",
   "metadata": {},
   "outputs": [
    {
     "data": {
      "text/plain": [
       "Rank                   0\n",
       "Country Name           0\n",
       "Male Height in Cm      0\n",
       "Female Height in Cm    0\n",
       "Male Height in Ft      0\n",
       "Female Height in Ft    0\n",
       "dtype: int64"
      ]
     },
     "execution_count": 56,
     "metadata": {},
     "output_type": "execute_result"
    }
   ],
   "source": [
    "#Checking for missing values\n",
    "height_cdf.isnull().sum()"
   ]
  },
  {
   "cell_type": "code",
   "execution_count": 57,
   "id": "25328ca6",
   "metadata": {},
   "outputs": [],
   "source": [
    "#Will drop the columns that are not needed for this analysis\n",
    "height_cdf.drop(['Rank','Male Height in Ft','Female Height in Ft'],axis=1,inplace=True)"
   ]
  },
  {
   "cell_type": "code",
   "execution_count": 58,
   "id": "407225d8",
   "metadata": {},
   "outputs": [
    {
     "data": {
      "text/html": [
       "<div>\n",
       "<style scoped>\n",
       "    .dataframe tbody tr th:only-of-type {\n",
       "        vertical-align: middle;\n",
       "    }\n",
       "\n",
       "    .dataframe tbody tr th {\n",
       "        vertical-align: top;\n",
       "    }\n",
       "\n",
       "    .dataframe thead th {\n",
       "        text-align: right;\n",
       "    }\n",
       "</style>\n",
       "<table border=\"1\" class=\"dataframe\">\n",
       "  <thead>\n",
       "    <tr style=\"text-align: right;\">\n",
       "      <th></th>\n",
       "      <th>Country Name</th>\n",
       "      <th>Male Height in Cm</th>\n",
       "      <th>Female Height in Cm</th>\n",
       "    </tr>\n",
       "  </thead>\n",
       "  <tbody>\n",
       "    <tr>\n",
       "      <th>0</th>\n",
       "      <td>Netherlands</td>\n",
       "      <td>183.78</td>\n",
       "      <td>170.36</td>\n",
       "    </tr>\n",
       "    <tr>\n",
       "      <th>1</th>\n",
       "      <td>Montenegro</td>\n",
       "      <td>183.30</td>\n",
       "      <td>169.96</td>\n",
       "    </tr>\n",
       "  </tbody>\n",
       "</table>\n",
       "</div>"
      ],
      "text/plain": [
       "  Country Name  Male Height in Cm  Female Height in Cm\n",
       "0  Netherlands             183.78               170.36\n",
       "1   Montenegro             183.30               169.96"
      ]
     },
     "execution_count": 58,
     "metadata": {},
     "output_type": "execute_result"
    }
   ],
   "source": [
    "height_cdf.head(2)"
   ]
  },
  {
   "cell_type": "markdown",
   "id": "8ac90a26",
   "metadata": {},
   "source": [
    "### Plotting of histograms to see the height (cm) distribution for each gender."
   ]
  },
  {
   "cell_type": "code",
   "execution_count": 59,
   "id": "da42233e",
   "metadata": {},
   "outputs": [
    {
     "data": {
      "text/plain": [
       "<matplotlib.lines.Line2D at 0x7fd1100e02e0>"
      ]
     },
     "execution_count": 59,
     "metadata": {},
     "output_type": "execute_result"
    },
    {
     "data": {
      "image/png": "[encoded data removed]",
      "text/plain": [
       "<Figure size 360x360 with 1 Axes>"
      ]
     },
     "metadata": {
      "needs_background": "light"
     },
     "output_type": "display_data"
    }
   ],
   "source": [
    "sns.displot(height_cdf['Female Height in Cm'])\n",
    "plt.axvline(x=np.mean(height_cdf['Female Height in Cm']),c='green',ls='--',label='mean')\n",
    "plt.axvline(x=np.percentile(height_cdf['Female Height in Cm'],25),c='red',ls='--',label='25-75th percentile')\n",
    "plt.axvline(x=np.percentile(height_cdf['Female Height in Cm'],75),c='red',ls='--')"
   ]
  },
  {
   "cell_type": "code",
   "execution_count": 60,
   "id": "467781b1",
   "metadata": {},
   "outputs": [
    {
     "data": {
      "text/plain": [
       "<matplotlib.lines.Line2D at 0x7fd140969ac0>"
      ]
     },
     "execution_count": 60,
     "metadata": {},
     "output_type": "execute_result"
    },
    {
     "data": {
      "image/png": "[encoded data removed]",
      "text/plain": [
       "<Figure size 360x360 with 1 Axes>"
      ]
     },
     "metadata": {
      "needs_background": "light"
     },
     "output_type": "display_data"
    }
   ],
   "source": [
    "sns.displot(height_cdf['Male Height in Cm'])\n",
    "plt.axvline(x=np.mean(height_cdf['Male Height in Cm']),c='green',ls='--',label='mean')\n",
    "plt.axvline(x=np.percentile(height_cdf['Male Height in Cm'],25),c='red',ls='--',label='25-75th percentile')\n",
    "plt.axvline(x=np.percentile(height_cdf['Male Height in Cm'],75),c='red',ls='--')"
   ]
  },
  {
   "cell_type": "code",
   "execution_count": 62,
   "id": "d579af90",
   "metadata": {},
   "outputs": [
    {
     "data": {
      "text/plain": [
       "array([[<AxesSubplot:title={'center':'Male Height in Cm'}>,\n",
       "        <AxesSubplot:title={'center':'Female Height in Cm'}>]],\n",
       "      dtype=object)"
      ]
     },
     "execution_count": 62,
     "metadata": {},
     "output_type": "execute_result"
    },
    {
     "data": {
      "image/png": "[encoded data removed]",
      "text/plain": [
       "<Figure size 720x720 with 2 Axes>"
      ]
     },
     "metadata": {
      "needs_background": "light"
     },
     "output_type": "display_data"
    }
   ],
   "source": [
    "height_cdf.hist(figsize=(10,10))"
   ]
  },
  {
   "cell_type": "code",
   "execution_count": 73,
   "id": "e26410b2",
   "metadata": {},
   "outputs": [
    {
     "data": {
      "text/plain": [
       "<AxesSubplot:>"
      ]
     },
     "execution_count": 73,
     "metadata": {},
     "output_type": "execute_result"
    },
    {
     "data": {
      "image/png": "[encoded data removed]",
      "text/plain": [
       "<Figure size 720x720 with 1 Axes>"
      ]
     },
     "metadata": {
      "needs_background": "light"
     },
     "output_type": "display_data"
    }
   ],
   "source": [
    "plt.figure(figsize=(10,10))\n",
    "sns.boxplot(data = height_cdf.loc[:,['Female Height in Cm', 'Male Height in Cm']])"
   ]
  },
  {
   "cell_type": "markdown",
   "id": "4242db41",
   "metadata": {},
   "source": [
    "An interesting takeaway from the boxplot analysis above would be that the minimum height of males looks to be approximately the same as the median height of females. This value looks to be around 160.2cm. Also, there are no outliers for both the female and male heights."
   ]
  },
  {
   "cell_type": "code",
   "execution_count": 74,
   "id": "8a5ed317",
   "metadata": {},
   "outputs": [
    {
     "data": {
      "text/plain": [
       "<seaborn.axisgrid.PairGrid at 0x7fd140ab1880>"
      ]
     },
     "execution_count": 74,
     "metadata": {},
     "output_type": "execute_result"
    },
    {
     "data": {
      "image/png": "[encoded data removed]",
      "text/plain": [
       "<Figure size 360x360 with 6 Axes>"
      ]
     },
     "metadata": {
      "needs_background": "light"
     },
     "output_type": "display_data"
    }
   ],
   "source": [
    "#To plot all the bivariate relationships possible\n",
    "sns.pairplot(height_cdf)"
   ]
  },
  {
   "cell_type": "code",
   "execution_count": 75,
   "id": "9e60ce33",
   "metadata": {},
   "outputs": [
    {
     "data": {
      "text/html": [
       "<div>\n",
       "<style scoped>\n",
       "    .dataframe tbody tr th:only-of-type {\n",
       "        vertical-align: middle;\n",
       "    }\n",
       "\n",
       "    .dataframe tbody tr th {\n",
       "        vertical-align: top;\n",
       "    }\n",
       "\n",
       "    .dataframe thead th {\n",
       "        text-align: right;\n",
       "    }\n",
       "</style>\n",
       "<table border=\"1\" class=\"dataframe\">\n",
       "  <thead>\n",
       "    <tr style=\"text-align: right;\">\n",
       "      <th></th>\n",
       "      <th>Male Height in Cm</th>\n",
       "      <th>Female Height in Cm</th>\n",
       "    </tr>\n",
       "  </thead>\n",
       "  <tbody>\n",
       "    <tr>\n",
       "      <th>Male Height in Cm</th>\n",
       "      <td>1.000000</td>\n",
       "      <td>0.928787</td>\n",
       "    </tr>\n",
       "    <tr>\n",
       "      <th>Female Height in Cm</th>\n",
       "      <td>0.928787</td>\n",
       "      <td>1.000000</td>\n",
       "    </tr>\n",
       "  </tbody>\n",
       "</table>\n",
       "</div>"
      ],
      "text/plain": [
       "                     Male Height in Cm  Female Height in Cm\n",
       "Male Height in Cm             1.000000             0.928787\n",
       "Female Height in Cm           0.928787             1.000000"
      ]
     },
     "execution_count": 75,
     "metadata": {},
     "output_type": "execute_result"
    }
   ],
   "source": [
    "#Correlation Analysis\n",
    "height_cdf.corr()"
   ]
  },
  {
   "cell_type": "code",
   "execution_count": 76,
   "id": "cd634518",
   "metadata": {},
   "outputs": [
    {
     "data": {
      "text/html": [
       "<div>\n",
       "<style scoped>\n",
       "    .dataframe tbody tr th:only-of-type {\n",
       "        vertical-align: middle;\n",
       "    }\n",
       "\n",
       "    .dataframe tbody tr th {\n",
       "        vertical-align: top;\n",
       "    }\n",
       "\n",
       "    .dataframe thead th {\n",
       "        text-align: right;\n",
       "    }\n",
       "</style>\n",
       "<table border=\"1\" class=\"dataframe\">\n",
       "  <thead>\n",
       "    <tr style=\"text-align: right;\">\n",
       "      <th></th>\n",
       "      <th>Male Height in Cm</th>\n",
       "      <th>Female Height in Cm</th>\n",
       "    </tr>\n",
       "  </thead>\n",
       "  <tbody>\n",
       "    <tr>\n",
       "      <th>Male Height in Cm</th>\n",
       "      <td>1.00</td>\n",
       "      <td>0.93</td>\n",
       "    </tr>\n",
       "    <tr>\n",
       "      <th>Female Height in Cm</th>\n",
       "      <td>0.93</td>\n",
       "      <td>1.00</td>\n",
       "    </tr>\n",
       "  </tbody>\n",
       "</table>\n",
       "</div>"
      ],
      "text/plain": [
       "                     Male Height in Cm  Female Height in Cm\n",
       "Male Height in Cm                 1.00                 0.93\n",
       "Female Height in Cm               0.93                 1.00"
      ]
     },
     "execution_count": 76,
     "metadata": {},
     "output_type": "execute_result"
    }
   ],
   "source": [
    "np.round(height_cdf.corr(),2)"
   ]
  },
  {
   "cell_type": "code",
   "execution_count": 135,
   "id": "ec2ae4d3",
   "metadata": {},
   "outputs": [
    {
     "data": {
      "text/plain": [
       "<AxesSubplot:>"
      ]
     },
     "execution_count": 135,
     "metadata": {},
     "output_type": "execute_result"
    },
    {
     "data": {
      "image/png": "[encoded data removed]",
      "text/plain": [
       "<Figure size 432x288 with 2 Axes>"
      ]
     },
     "metadata": {
      "needs_background": "light"
     },
     "output_type": "display_data"
    }
   ],
   "source": [
    "sns.heatmap(height_cdf.corr(),annot=True, cmap='Purples')"
   ]
  },
  {
   "cell_type": "markdown",
   "id": "4983bc50",
   "metadata": {},
   "source": [
    "### Countries with the Tallest/Shortest Males and Females"
   ]
  },
  {
   "cell_type": "code",
   "execution_count": 121,
   "id": "c9c4047b",
   "metadata": {},
   "outputs": [],
   "source": [
    "tallestmale_height = height_cdf.sort_values(by='Male Height in Cm', ascending=False).head(10)[['Country Name', 'Male Height in Cm']]\n",
    "tallestfemale_height = height_cdf.sort_values(by='Female Height in Cm', ascending=False).head(10)[['Country Name', 'Female Height in Cm']]"
   ]
  },
  {
   "cell_type": "code",
   "execution_count": 139,
   "id": "f31c9901",
   "metadata": {},
   "outputs": [
    {
     "name": "stderr",
     "output_type": "stream",
     "text": [
      "<ipython-input-139-4bd7f03b8a94>:7: UserWarning: Attempting to set identical left == right == 180 results in singular transformations; automatically expanding.\n",
      "  mx.set_xlim(180, 180)\n"
     ]
    },
    {
     "data": {
      "image/png": "[encoded data removed]",
      "text/plain": [
       "<Figure size 864x360 with 1 Axes>"
      ]
     },
     "metadata": {
      "needs_background": "light"
     },
     "output_type": "display_data"
    }
   ],
   "source": [
    "plt.figure(figsize=(12, 5))\n",
    "\n",
    "mx = sns.barplot(x='Male Height in Cm', \n",
    "                 y='Country Name', \n",
    "                 data=tallestmale_height, \n",
    "                 palette='Set3')\n",
    "mx.set_xlim(180, 180)\n",
    "mx.set_title('Top 10 Countries with Tallest Males',\n",
    "             fontsize=16, \n",
    "             pad=5)\n",
    "mx.set_xlabel('Male Height (cm)',\n",
    "              fontsize=14)\n",
    "mx.set_ylabel('Country')\n",
    "plt.show()"
   ]
  },
  {
   "cell_type": "code",
   "execution_count": 129,
   "id": "dfedf03f",
   "metadata": {},
   "outputs": [
    {
     "data": {
      "image/png": "[encoded data removed]",
      "text/plain": [
       "<Figure size 864x360 with 1 Axes>"
      ]
     },
     "metadata": {
      "needs_background": "light"
     },
     "output_type": "display_data"
    }
   ],
   "source": [
    "plt.figure(figsize=(12, 5))\n",
    "\n",
    "fx = sns.barplot(x='Female Height in Cm', \n",
    "                 y='Country Name', \n",
    "                 data=tallestfemale_height, \n",
    "                 palette='Set2')\n",
    "fx.set_xlim(160, 175)\n",
    "fx.set_title('Top 10 Countries with Tallest Females',\n",
    "             fontsize=16, \n",
    "             pad=5)\n",
    "fx.set_xlabel('Female Height (cm)',\n",
    "              fontsize=14)\n",
    "fx.set_ylabel('Country')\n",
    "plt.show()"
   ]
  },
  {
   "cell_type": "code",
   "execution_count": 122,
   "id": "5ba9f497",
   "metadata": {},
   "outputs": [],
   "source": [
    "shortestmale_height = height_cdf.sort_values(by='Male Height in Cm' ,ascending=False).tail(10)[['Country Name', 'Male Height in Cm'\n",
    "                                                                                               ]]\n",
    "shortestfemale_height = height_cdf.sort_values(by='Female Height in Cm' ,ascending=False).tail(10)[['Country Name', 'Female Height in Cm']]"
   ]
  },
  {
   "cell_type": "code",
   "execution_count": 123,
   "id": "560a4abe",
   "metadata": {},
   "outputs": [
    {
     "name": "stderr",
     "output_type": "stream",
     "text": [
      "<ipython-input-123-c131f6070be2>:7: UserWarning: Attempting to set identical left == right == 180 results in singular transformations; automatically expanding.\n",
      "  mx.set_xlim(180, 180)\n"
     ]
    },
    {
     "data": {
      "image/png": "[encoded data removed]",
      "text/plain": [
       "<Figure size 864x360 with 1 Axes>"
      ]
     },
     "metadata": {
      "needs_background": "light"
     },
     "output_type": "display_data"
    }
   ],
   "source": [
    "plt.figure(figsize=(12, 5))\n",
    "\n",
    "mx = sns.barplot(x='Male Height in Cm', \n",
    "                 y='Country Name', \n",
    "                 data=tallestmale_height, \n",
    "                 palette='Set3')\n",
    "mx.set_xlim(180, 180)\n",
    "mx.set_title('Countries with Shortest Males',\n",
    "             fontsize=16, \n",
    "             pad=5)\n",
    "mx.set_xlabel('Male Height (cm)',\n",
    "              fontsize=14)\n",
    "mx.set_ylabel('Country')\n",
    "plt.show()"
   ]
  },
  {
   "cell_type": "code",
   "execution_count": 128,
   "id": "79008bd6",
   "metadata": {},
   "outputs": [
    {
     "data": {
      "image/png": "[encoded data removed]",
      "text/plain": [
       "<Figure size 864x360 with 1 Axes>"
      ]
     },
     "metadata": {
      "needs_background": "light"
     },
     "output_type": "display_data"
    }
   ],
   "source": [
    "plt.figure(figsize=(12, 5))\n",
    "\n",
    "fx = sns.barplot(x='Female Height in Cm', \n",
    "                 y='Country Name', \n",
    "                 data=tallestfemale_height, \n",
    "                 palette='Set2')\n",
    "fx.set_xlim(160, 175)\n",
    "fx.set_title('Countries with Shortest Females',\n",
    "             fontsize=16, \n",
    "             pad=5)\n",
    "fx.set_xlabel('Female Height (cm)',\n",
    "              fontsize=14)\n",
    "fx.set_ylabel('Country')\n",
    "plt.show()"
   ]
  }
 ],
 "metadata": {
  "kernelspec": {
   "display_name": "Python 3",
   "language": "python",
   "name": "python3"
  },
  "language_info": {
   "codemirror_mode": {
    "name": "ipython",
    "version": 3
   },
   "file_extension": ".py",
   "mimetype": "text/x-python",
   "name": "python",
   "nbconvert_exporter": "python",
   "pygments_lexer": "ipython3",
   "version": "3.8.8"
  }
 },
 "nbformat": 4,
 "nbformat_minor": 5
}
